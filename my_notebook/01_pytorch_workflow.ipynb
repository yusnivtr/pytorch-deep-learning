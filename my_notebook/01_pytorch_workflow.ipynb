{
  "cells": [
    {
      "cell_type": "markdown",
      "metadata": {
        "id": "view-in-github",
        "colab_type": "text"
      },
      "source": [
        "<a href=\"https://colab.research.google.com/github/yusnivtr/pytorch-deep-learning/blob/main/my_notebook/01_pytorch_workflow.ipynb\" target=\"_parent\"><img src=\"https://colab.research.google.com/assets/colab-badge.svg\" alt=\"Open In Colab\"/></a>"
      ]
    },
    {
      "cell_type": "code",
      "execution_count": 1,
      "metadata": {
        "colab": {
          "base_uri": "https://localhost:8080/",
          "height": 36
        },
        "id": "Y-EXSEUk8ItP",
        "outputId": "aa29f6cf-9d17-48b8-8d28-bac90e1a4090"
      },
      "outputs": [
        {
          "output_type": "execute_result",
          "data": {
            "text/plain": [
              "'2.5.1+cu124'"
            ],
            "application/vnd.google.colaboratory.intrinsic+json": {
              "type": "string"
            }
          },
          "metadata": {},
          "execution_count": 1
        }
      ],
      "source": [
        "import torch\n",
        "from torch import nn\n",
        "from matplotlib import pyplot as plt\n",
        "torch.__version__"
      ]
    },
    {
      "cell_type": "markdown",
      "metadata": {
        "id": "VEzewTRy9Tqt"
      },
      "source": [
        "# Data (Prepare and loading)"
      ]
    },
    {
      "cell_type": "code",
      "execution_count": 2,
      "metadata": {
        "colab": {
          "base_uri": "https://localhost:8080/"
        },
        "id": "wmvNquk39HLf",
        "outputId": "248b1941-7f78-46b5-eca1-a71dfddde4f2"
      },
      "outputs": [
        {
          "output_type": "execute_result",
          "data": {
            "text/plain": [
              "(tensor([[0.0000],\n",
              "         [0.0200],\n",
              "         [0.0400],\n",
              "         [0.0600],\n",
              "         [0.0800],\n",
              "         [0.1000],\n",
              "         [0.1200],\n",
              "         [0.1400],\n",
              "         [0.1600],\n",
              "         [0.1800]]),\n",
              " tensor([[0.3000],\n",
              "         [0.3140],\n",
              "         [0.3280],\n",
              "         [0.3420],\n",
              "         [0.3560],\n",
              "         [0.3700],\n",
              "         [0.3840],\n",
              "         [0.3980],\n",
              "         [0.4120],\n",
              "         [0.4260]]))"
            ]
          },
          "metadata": {},
          "execution_count": 2
        }
      ],
      "source": [
        "weight = 0.7\n",
        "bias = 0.3\n",
        "\n",
        "start = 0\n",
        "end = 1\n",
        "step = 0.02\n",
        "X = torch.arange(start,end,step).unsqueeze(dim=1)\n",
        "y = weight*X + bias\n",
        "\n",
        "X[:10],y[:10]"
      ]
    },
    {
      "cell_type": "code",
      "execution_count": 3,
      "metadata": {
        "colab": {
          "base_uri": "https://localhost:8080/"
        },
        "id": "W8LhgrTF90Qr",
        "outputId": "937944c8-df93-40d6-d36f-de175a33188f"
      },
      "outputs": [
        {
          "output_type": "execute_result",
          "data": {
            "text/plain": [
              "(50, 50)"
            ]
          },
          "metadata": {},
          "execution_count": 3
        }
      ],
      "source": [
        "len(X), len(y)"
      ]
    },
    {
      "cell_type": "markdown",
      "metadata": {
        "id": "0DmCM8Jk95j1"
      },
      "source": [
        "Splitting data into training and test"
      ]
    },
    {
      "cell_type": "code",
      "execution_count": 4,
      "metadata": {
        "colab": {
          "base_uri": "https://localhost:8080/"
        },
        "id": "qmVOt8H598Kb",
        "outputId": "3ecc3a1f-cb93-40b8-af5c-31f2cc488d37"
      },
      "outputs": [
        {
          "output_type": "execute_result",
          "data": {
            "text/plain": [
              "(40, 40, 10, 10)"
            ]
          },
          "metadata": {},
          "execution_count": 4
        }
      ],
      "source": [
        "train_split = int(0.8*len(X))\n",
        "X_train,y_train = X[:train_split],y[:train_split]\n",
        "X_test,y_test = X[train_split:],y[train_split:]\n",
        "len(X_train),len(y_train),len(X_test),len(y_test)"
      ]
    },
    {
      "cell_type": "code",
      "execution_count": 5,
      "metadata": {
        "id": "nKMydgCP-Vei"
      },
      "outputs": [],
      "source": [
        "def plot_predictions(train_data=X_train,\n",
        "                     train_label=y_train,\n",
        "                     test_data = X_test,\n",
        "                     test_label=y_test,\n",
        "                     predictions = None):\n",
        "  plt.figure(figsize=(10,7))\n",
        "\n",
        "  plt.scatter(train_data,train_label,c='b',s=4,label=\"Traning Data\")\n",
        "\n",
        "  plt.scatter(test_data,test_label,c='g',s=4,label=\"Test Data\")\n",
        "\n",
        "  if predictions is not None:\n",
        "    plt.scatter(test_data,predictions,c='r',s=4,label='Predictions')\n",
        "\n",
        "  plt.legend(prop={\"size\":14})"
      ]
    },
    {
      "cell_type": "code",
      "execution_count": 6,
      "metadata": {
        "colab": {
          "base_uri": "https://localhost:8080/",
          "height": 599
        },
        "id": "FmIswqTo_DiC",
        "outputId": "913dd910-a94e-452f-e118-4c31b93c27bb"
      },
      "outputs": [
        {
          "output_type": "display_data",
          "data": {
            "text/plain": [
              "<Figure size 1000x700 with 1 Axes>"
            ],
            "image/png": "[encoded data removed]"
          },
          "metadata": {}
        }
      ],
      "source": [
        "plot_predictions();"
      ]
    },
    {
      "cell_type": "markdown",
      "metadata": {
        "id": "qnMO8GFW_Nzd"
      },
      "source": [
        "# Build model"
      ]
    },
    {
      "cell_type": "code",
      "execution_count": 7,
      "metadata": {
        "id": "ILoNqS-r_HG2"
      },
      "outputs": [],
      "source": [
        "from torch import nn\n",
        "# Create linear Regression Model\n",
        "class LinearRegressionModel(nn.Module):\n",
        "  def __init__(self):\n",
        "    super().__init__()\n",
        "    self.weights = nn.Parameter(torch.randn(1,\n",
        "                                            requires_grad=True,\n",
        "                                            dtype=torch.float))\n",
        "    self.bias = nn.Parameter(torch.rand(1,\n",
        "                                        requires_grad=True,\n",
        "                                        dtype=torch.float))\n",
        "\n",
        "    # Forward method to define the computation in the model\n",
        "  def forward(self,x:torch.Tensor) -> torch.Tensor:\n",
        "    return self.weights*x+self.bias\n"
      ]
    },
    {
      "cell_type": "code",
      "execution_count": 7,
      "metadata": {
        "id": "J-Rsn6-aKAne"
      },
      "outputs": [],
      "source": []
    },
    {
      "cell_type": "markdown",
      "metadata": {
        "id": "uEut980NKh3v"
      },
      "source": [
        "### PyTorch model bulidings esentials\n",
        "\n",
        "* torch.nn - contains all of the buildings for computational graphs ( a neural network can be considered as a computational graph)\n",
        "* torch.nn.Parameter - what parameter should our model try and learn, often a layer from torch.nn will set these for us\n",
        "* torch.nn.Module -  the base class for all neural network modules, it subclass it, should overwrite forward method.\n",
        "* torch.optim - this where the optimizers in PyTorch live, they will help with gradient descent\n",
        "* def forward() - All nn.Module subclasses require you to overwrite this, this method defines what happens in the forward computation.\n",
        "\n",
        "PyTorch cheat sheet : https://pytorch.org/tutorials/beginner/ptcheat.html"
      ]
    },
    {
      "cell_type": "code",
      "execution_count": 7,
      "metadata": {
        "id": "BEVvM51LLR8W"
      },
      "outputs": [],
      "source": []
    },
    {
      "cell_type": "markdown",
      "metadata": {
        "id": "mlCFfOCbM8LK"
      },
      "source": [
        "### Checking the contents of our PyTorch Model\n",
        "\n",
        "So we can check our model parameters or what's inside our model using `.parameter()`"
      ]
    },
    {
      "cell_type": "code",
      "execution_count": 8,
      "metadata": {
        "colab": {
          "base_uri": "https://localhost:8080/"
        },
        "id": "kU5pa4ZONOBW",
        "outputId": "4da51844-d56a-4a3a-d666-2e41b91d5436"
      },
      "outputs": [
        {
          "output_type": "execute_result",
          "data": {
            "text/plain": [
              "[Parameter containing:\n",
              " tensor([0.3367], requires_grad=True),\n",
              " Parameter containing:\n",
              " tensor([0.3904], requires_grad=True)]"
            ]
          },
          "metadata": {},
          "execution_count": 8
        }
      ],
      "source": [
        "# Create random seed\n",
        "torch.manual_seed(42)\n",
        "\n",
        "# Create an instance of the model\n",
        "model_0 = LinearRegressionModel()\n",
        "\n",
        "# Check out parameters\n",
        "list(model_0.parameters())"
      ]
    },
    {
      "cell_type": "code",
      "execution_count": 9,
      "metadata": {
        "colab": {
          "base_uri": "https://localhost:8080/"
        },
        "id": "F5JlGfcWNc2Z",
        "outputId": "e530c732-1b80-4506-cd1c-a0bb1b2ffcc1"
      },
      "outputs": [
        {
          "output_type": "execute_result",
          "data": {
            "text/plain": [
              "OrderedDict([('weights', tensor([0.3367])), ('bias', tensor([0.3904]))])"
            ]
          },
          "metadata": {},
          "execution_count": 9
        }
      ],
      "source": [
        "# List named parameters\n",
        "model_0.state_dict()"
      ]
    },
    {
      "cell_type": "code",
      "execution_count": 10,
      "metadata": {
        "colab": {
          "base_uri": "https://localhost:8080/"
        },
        "id": "xVI9w0qbOjCg",
        "outputId": "9b180ad4-21e5-4e95-fa51-b79c79d519ea"
      },
      "outputs": [
        {
          "output_type": "execute_result",
          "data": {
            "text/plain": [
              "(0.7, 0.3)"
            ]
          },
          "metadata": {},
          "execution_count": 10
        }
      ],
      "source": [
        "weight, bias"
      ]
    },
    {
      "cell_type": "code",
      "execution_count": 10,
      "metadata": {
        "id": "DQjKS9NPOtdp"
      },
      "outputs": [],
      "source": []
    },
    {
      "cell_type": "markdown",
      "metadata": {
        "id": "r4k8OLh7PCDW"
      },
      "source": [
        "### Making prediction using `torch.inference_mode()`\n",
        "\n",
        "When we pass data through our model, it's going to run it through the forward() method\n"
      ]
    },
    {
      "cell_type": "code",
      "execution_count": 11,
      "metadata": {
        "colab": {
          "base_uri": "https://localhost:8080/"
        },
        "id": "lGHk62yNPGX2",
        "outputId": "a90362b4-2097-4ed2-acad-681c8f8f348c"
      },
      "outputs": [
        {
          "output_type": "execute_result",
          "data": {
            "text/plain": [
              "tensor([[0.6598],\n",
              "        [0.6665],\n",
              "        [0.6733],\n",
              "        [0.6800],\n",
              "        [0.6867],\n",
              "        [0.6935],\n",
              "        [0.7002],\n",
              "        [0.7069],\n",
              "        [0.7137],\n",
              "        [0.7204]])"
            ]
          },
          "metadata": {},
          "execution_count": 11
        }
      ],
      "source": [
        "# Make predictions with model\n",
        "# with torch.inference_mode():\n",
        "#   y_preds = model_0(X_test)\n",
        "# Also do something similar with torch.no_grad()\n",
        "with torch.no_grad():\n",
        "  y_preds = model_0(X_test)\n",
        "\n",
        "y_preds"
      ]
    },
    {
      "cell_type": "code",
      "execution_count": 12,
      "metadata": {
        "colab": {
          "base_uri": "https://localhost:8080/"
        },
        "id": "Osu6HE-wQbCG",
        "outputId": "9bced16a-b302-49b7-e18c-def74374d735"
      },
      "outputs": [
        {
          "output_type": "execute_result",
          "data": {
            "text/plain": [
              "tensor([[0.8600],\n",
              "        [0.8740],\n",
              "        [0.8880],\n",
              "        [0.9020],\n",
              "        [0.9160],\n",
              "        [0.9300],\n",
              "        [0.9440],\n",
              "        [0.9580],\n",
              "        [0.9720],\n",
              "        [0.9860]])"
            ]
          },
          "metadata": {},
          "execution_count": 12
        }
      ],
      "source": [
        "y_test"
      ]
    },
    {
      "cell_type": "code",
      "execution_count": 13,
      "metadata": {
        "colab": {
          "base_uri": "https://localhost:8080/",
          "height": 599
        },
        "id": "kir5MCQMWwLY",
        "outputId": "c9da962d-577d-4d7d-8bef-826c86c6c56d"
      },
      "outputs": [
        {
          "output_type": "display_data",
          "data": {
            "text/plain": [
              "<Figure size 1000x700 with 1 Axes>"
            ],
            "image/png": "[encoded data removed]"
          },
          "metadata": {}
        }
      ],
      "source": [
        "plot_predictions(predictions=y_preds)"
      ]
    },
    {
      "cell_type": "code",
      "execution_count": 13,
      "metadata": {
        "id": "aENUk6G0Wy3K"
      },
      "outputs": [],
      "source": []
    },
    {
      "cell_type": "markdown",
      "metadata": {
        "id": "bXCszWnIYsh3"
      },
      "source": [
        "# Train model\n",
        "The whole idea of traning is for a model to move from some unknown params to ideal params\n",
        "\n",
        "One way to measure how poor of predictions is to use loss function\n",
        "\n",
        "Things we need to train:\n",
        "* Loss function\n",
        "* Optimizer: Take into account the loss of a model and adjusts the model's parameters.\n",
        "  * Inside the optimizer:\n",
        "    * `params` - the model parameters you'd like to optimizer\n",
        "    * `lr` (learning rate) - the learning rate is hyperparameter that defines ...\n",
        "\n",
        "And specicallyt for PyTorch, we need:\n",
        "* A training loop\n",
        "* A testing loop"
      ]
    },
    {
      "cell_type": "code",
      "execution_count": 14,
      "metadata": {
        "id": "7vuIDhswY3Vl"
      },
      "outputs": [],
      "source": [
        "# Setup a loss function\n",
        "loss_fn = nn.L1Loss()\n",
        "\n",
        "# Setup an optimizer (stochastic gradient descent)\n",
        "optimizer = torch.optim.SGD(params=model_0.parameters(),\n",
        "                            lr=0.01) #lr = learning rate"
      ]
    },
    {
      "cell_type": "markdown",
      "metadata": {
        "id": "yzFDI_lxiZEu"
      },
      "source": [
        "### Building a traning loop (and a testing loop)\n",
        "\n",
        "A couplt things we need in a training loop:\n",
        "0. Loop through the data\n",
        "1. Forward pass (this involves data moving through our model's `forward()` functions) to make prediction on data - also called forward propagation\n",
        "2. Calculate the loss\n",
        "3. Optimizer zero grad\n",
        "4. Look backward - move backwards through the network to calculate the gradient of each of the parameters of our model with respect to the loss (**backpropagation**)\n",
        "5. Optimizer step - use the optimizer to adjust parameters and try to improve the loss. (**gradient descent**)"
      ]
    },
    {
      "cell_type": "code",
      "execution_count": 15,
      "metadata": {
        "colab": {
          "base_uri": "https://localhost:8080/"
        },
        "id": "rotTcR5zjzz4",
        "outputId": "bc2d190a-0a5c-46ad-ff64-077d03d3ed14"
      },
      "outputs": [
        {
          "output_type": "stream",
          "name": "stdout",
          "text": [
            "Epoch: 0 | Loss: 0.08169572055339813 | Test loss: 0.22662055492401123\n",
            "OrderedDict([('weights', tensor([0.3398])), ('bias', tensor([0.3939]))])\n",
            "Epoch: 10 | Loss: 0.06808149069547653 | Test loss: 0.1807345449924469\n",
            "OrderedDict([('weights', tensor([0.3672])), ('bias', tensor([0.4154]))])\n",
            "Epoch: 20 | Loss: 0.06258393079042435 | Test loss: 0.15627031028270721\n",
            "OrderedDict([('weights', tensor([0.3891])), ('bias', tensor([0.4204]))])\n",
            "Epoch: 30 | Loss: 0.05879194289445877 | Test loss: 0.1418602615594864\n",
            "OrderedDict([('weights', tensor([0.4081])), ('bias', tensor([0.4179]))])\n",
            "Epoch: 40 | Loss: 0.05530194193124771 | Test loss: 0.13084018230438232\n",
            "OrderedDict([('weights', tensor([0.4261])), ('bias', tensor([0.4129]))])\n",
            "Epoch: 50 | Loss: 0.051822252571582794 | Test loss: 0.12050700187683105\n",
            "OrderedDict([('weights', tensor([0.4439])), ('bias', tensor([0.4074]))])\n",
            "Epoch: 60 | Loss: 0.04838593676686287 | Test loss: 0.11223447322845459\n",
            "OrderedDict([('weights', tensor([0.4610])), ('bias', tensor([0.4004]))])\n",
            "Epoch: 70 | Loss: 0.044948760420084 | Test loss: 0.10464880615472794\n",
            "OrderedDict([('weights', tensor([0.4780])), ('bias', tensor([0.3929]))])\n",
            "Epoch: 80 | Loss: 0.04152031987905502 | Test loss: 0.09637625515460968\n",
            "OrderedDict([('weights', tensor([0.4951])), ('bias', tensor([0.3859]))])\n",
            "Epoch: 90 | Loss: 0.03808232396841049 | Test loss: 0.08810374140739441\n",
            "OrderedDict([('weights', tensor([0.5123])), ('bias', tensor([0.3789]))])\n"
          ]
        }
      ],
      "source": [
        "# An epoch is one loop through the data (this is a hyperparameter because we've set it ourselves)\n",
        "epochs = 100\n",
        "# Track different values\n",
        "epoch_count = []\n",
        "loss_values = []\n",
        "test_loss_values = []\n",
        "\n",
        "### Training\n",
        "# 0. Loop through the data\n",
        "for epoch in range(epochs):\n",
        "  # Set the model to traning mode\n",
        "  model_0.train() # training mode in PyTorch sets all require gradients is True\n",
        "  # 1. Forward pass\n",
        "  y_pred = model_0(X_train)\n",
        "\n",
        "  # 2. Calculate the loss\n",
        "  loss = loss_fn(y_pred,y_train)\n",
        "\n",
        "  # 3. Optimizer zero grad\n",
        "  optimizer.zero_grad()\n",
        "\n",
        "  # 4. Perform backpropagation on the loss with respect to the parameters of the model\n",
        "  loss.backward()\n",
        "  # 5. Step the optimizer (perform gradient descent)\n",
        "  optimizer.step() # by default how the optimizer changes will acculumate through the loop so we have to zero them above in step 3\n",
        "\n",
        "  ### Testing\n",
        "  model_0.eval() # turn off different settings in the model not needed for evaluation/testing (dropout/batch norm layer)\n",
        "  with torch.inference_mode(): # turns off gradient tracking & a couple more things behind the scenes\n",
        "    # 1. Do the forward pass\n",
        "    test_predctions = model_0(X_test)\n",
        "    # 2. Calculate the loss\n",
        "    test_loss = loss_fn(test_predctions,y_test)\n",
        "  if epoch % 10 == 0:\n",
        "    epoch_count.append(epoch)\n",
        "    loss_values.append(loss.detach().numpy())\n",
        "    test_loss_values.append(test_loss)\n",
        "    print(f\"Epoch: {epoch} | Loss: {loss} | Test loss: {test_loss}\")\n",
        "    print(model_0.state_dict())\n"
      ]
    },
    {
      "cell_type": "code",
      "execution_count": 16,
      "metadata": {
        "colab": {
          "base_uri": "https://localhost:8080/"
        },
        "id": "Um3Vxc8dzw9f",
        "outputId": "dfb39498-d51d-49e9-d7e1-ffc5ec4b78c5"
      },
      "outputs": [
        {
          "output_type": "execute_result",
          "data": {
            "text/plain": [
              "OrderedDict([('weights', tensor([0.5277])), ('bias', tensor([0.3724]))])"
            ]
          },
          "metadata": {},
          "execution_count": 16
        }
      ],
      "source": [
        "model_0.state_dict()"
      ]
    },
    {
      "cell_type": "code",
      "execution_count": 17,
      "metadata": {
        "colab": {
          "base_uri": "https://localhost:8080/",
          "height": 599
        },
        "id": "m7XbodSez2L9",
        "outputId": "5c40cef2-5aff-451f-f399-f5b9d6e5f1c4"
      },
      "outputs": [
        {
          "output_type": "display_data",
          "data": {
            "text/plain": [
              "<Figure size 1000x700 with 1 Axes>"
            ],
            "image/png": "[encoded data removed]"
          },
          "metadata": {}
        }
      ],
      "source": [
        "with torch.inference_mode():\n",
        "  y_preds_new = model_0(X_test)\n",
        "\n",
        "plot_predictions(predictions=y_preds_new)"
      ]
    },
    {
      "cell_type": "code",
      "execution_count": 18,
      "metadata": {
        "colab": {
          "base_uri": "https://localhost:8080/",
          "height": 490
        },
        "id": "Anjt0oJ60wzM",
        "outputId": "bc3b4c1d-854d-4c95-dae7-e2857ae55c46"
      },
      "outputs": [
        {
          "output_type": "execute_result",
          "data": {
            "text/plain": [
              "Text(0.5, 1.0, 'Traning and Test loss curve ')"
            ]
          },
          "metadata": {},
          "execution_count": 18
        },
        {
          "output_type": "display_data",
          "data": {
            "text/plain": [
              "<Figure size 640x480 with 1 Axes>"
            ],
            "image/png": "[encoded data removed]"
          },
          "metadata": {}
        }
      ],
      "source": [
        "# Plot the loss curves\n",
        "plt.plot(epoch_count,loss_values,label=\"Train loss\")\n",
        "plt.plot(epoch_count,test_loss_values,label=\"Test loss\")\n",
        "plt.xlabel(\"Epoch\")\n",
        "plt.ylabel(\"Loss\")\n",
        "plt.legend()\n",
        "plt.title(\"Traning and Test loss curve \")"
      ]
    },
    {
      "cell_type": "code",
      "execution_count": 19,
      "metadata": {
        "colab": {
          "base_uri": "https://localhost:8080/"
        },
        "id": "sy76_ojX7gRv",
        "outputId": "ab222c86-642c-4832-cda7-f717ceb08a5f"
      },
      "outputs": [
        {
          "output_type": "execute_result",
          "data": {
            "text/plain": [
              "[array(0.08169572, dtype=float32),\n",
              " array(0.06808149, dtype=float32),\n",
              " array(0.06258393, dtype=float32),\n",
              " array(0.05879194, dtype=float32),\n",
              " array(0.05530194, dtype=float32),\n",
              " array(0.05182225, dtype=float32),\n",
              " array(0.04838594, dtype=float32),\n",
              " array(0.04494876, dtype=float32),\n",
              " array(0.04152032, dtype=float32),\n",
              " array(0.03808232, dtype=float32)]"
            ]
          },
          "metadata": {},
          "execution_count": 19
        }
      ],
      "source": [
        "loss_values"
      ]
    },
    {
      "cell_type": "code",
      "execution_count": 19,
      "metadata": {
        "id": "bskUacaB8BFE"
      },
      "outputs": [],
      "source": []
    },
    {
      "cell_type": "markdown",
      "metadata": {
        "id": "YfKN4rTRZaGc"
      },
      "source": [
        "# Saving model in PyTorch\n",
        "There are three main methods you should about for saving and loading models in PyTorch.\n",
        "\n",
        "1. `torch.save()` - allows you save a PyTorch object in Python's pickle format\n",
        "2. `torch.load()` - allows you load a saved PyTorch object.\n",
        "3. `torch.nn.Module.load_state_dict()` - this allows to load a model's saved state dictionary"
      ]
    },
    {
      "cell_type": "code",
      "execution_count": 20,
      "metadata": {
        "colab": {
          "base_uri": "https://localhost:8080/"
        },
        "id": "nDHCXKZ9Zb7C",
        "outputId": "ab065bcb-eaa8-4def-ee6e-893418d2ce73"
      },
      "outputs": [
        {
          "output_type": "stream",
          "name": "stdout",
          "text": [
            "Saving model to models/01_pytorch_workflow_model_0.pth\n"
          ]
        }
      ],
      "source": [
        "# Saving our PyTorch model\n",
        "from pathlib import Path\n",
        "\n",
        "# 1. Create model dicrectory\n",
        "MODEL_PATH = Path('models')\n",
        "MODEL_PATH.mkdir(parents=True,exist_ok=True)\n",
        "\n",
        "# 2. Create model save path\n",
        "MODEL_NAME = \"01_pytorch_workflow_model_0.pth\"\n",
        "MODEL_SAVE_PATH = MODEL_PATH / MODEL_NAME\n",
        "\n",
        "MODEL_SAVE_PATH\n",
        "\n",
        "# 3. Save the model state dict\n",
        "print(f'Saving model to {MODEL_SAVE_PATH}')\n",
        "torch.save(obj=model_0.state_dict(),f=MODEL_SAVE_PATH)"
      ]
    },
    {
      "cell_type": "code",
      "execution_count": 21,
      "metadata": {
        "colab": {
          "base_uri": "https://localhost:8080/"
        },
        "id": "mQ8x_l_yruoX",
        "outputId": "26041139-93e7-492c-ff5e-3369ada49de7"
      },
      "outputs": [
        {
          "output_type": "stream",
          "name": "stdout",
          "text": [
            "total 4\n",
            "-rw-r--r-- 1 root root 1680 Feb 15 03:01 01_pytorch_workflow_model_0.pth\n"
          ]
        }
      ],
      "source": [
        "!ls -l models"
      ]
    },
    {
      "cell_type": "code",
      "execution_count": 22,
      "metadata": {
        "colab": {
          "base_uri": "https://localhost:8080/"
        },
        "id": "5BJY9KTXsny1",
        "outputId": "a28978b5-a926-49b5-d491-40782428b0eb"
      },
      "outputs": [
        {
          "output_type": "execute_result",
          "data": {
            "text/plain": [
              "OrderedDict([('weights', tensor([0.5277])), ('bias', tensor([0.3724]))])"
            ]
          },
          "metadata": {},
          "execution_count": 22
        }
      ],
      "source": [
        "model_0.state_dict()"
      ]
    },
    {
      "cell_type": "markdown",
      "metadata": {
        "id": "-bZoIUBLu8ot"
      },
      "source": [
        "# Loading a PyTorch model\n",
        "\n",
        "Since we saved our model `state_dict()` rather the entire model, we'll create a new instance of our model class and load the state_dict() into that"
      ]
    },
    {
      "cell_type": "code",
      "execution_count": 23,
      "metadata": {
        "colab": {
          "base_uri": "https://localhost:8080/"
        },
        "id": "rAxtFge6uWTu",
        "outputId": "c3698a59-7d7d-481b-ea0c-474dd82860a4"
      },
      "outputs": [
        {
          "output_type": "execute_result",
          "data": {
            "text/plain": [
              "OrderedDict([('weights', tensor([0.5277])), ('bias', tensor([0.3724]))])"
            ]
          },
          "metadata": {},
          "execution_count": 23
        }
      ],
      "source": [
        "# To load in a saved state_dict() we have instantiate a new instance of our model class\n",
        "loaded_model_0 = LinearRegressionModel()\n",
        "\n",
        "# Load the state dict of model_0 (this will update a new instance with updated parameters)\n",
        "loaded_model_0.load_state_dict(torch.load(MODEL_SAVE_PATH,weights_only=True))\n",
        "loaded_model_0.state_dict()"
      ]
    },
    {
      "cell_type": "code",
      "execution_count": 24,
      "metadata": {
        "colab": {
          "base_uri": "https://localhost:8080/"
        },
        "id": "1iJBMdT-v9oi",
        "outputId": "9e8075de-d484-4ef4-b6e1-987f9c86cc01"
      },
      "outputs": [
        {
          "output_type": "execute_result",
          "data": {
            "text/plain": [
              "tensor([[True],\n",
              "        [True],\n",
              "        [True],\n",
              "        [True],\n",
              "        [True],\n",
              "        [True],\n",
              "        [True],\n",
              "        [True],\n",
              "        [True],\n",
              "        [True]])"
            ]
          },
          "metadata": {},
          "execution_count": 24
        }
      ],
      "source": [
        "# Make some predictions\n",
        "loaded_model_0.eval()\n",
        "with torch.inference_mode():\n",
        "  preds = loaded_model_0(X_test)\n",
        "\n",
        "y_preds_new == preds"
      ]
    },
    {
      "cell_type": "code",
      "execution_count": 24,
      "metadata": {
        "id": "Pclxxdb8wwhG"
      },
      "outputs": [],
      "source": []
    },
    {
      "cell_type": "markdown",
      "metadata": {
        "id": "mOPNKtrMxgmx"
      },
      "source": [
        "# Putting it all together\n",
        "\n"
      ]
    },
    {
      "cell_type": "code",
      "execution_count": 25,
      "metadata": {
        "id": "-yoNwQFVxkLo"
      },
      "outputs": [],
      "source": [
        "import torch\n",
        "import matplotlib.pyplot as plt\n",
        "import numpy as np\n",
        "from torch import nn"
      ]
    },
    {
      "cell_type": "code",
      "execution_count": 26,
      "metadata": {
        "colab": {
          "base_uri": "https://localhost:8080/"
        },
        "id": "wl2SP5syxoYF",
        "outputId": "2ec56600-7651-4873-b900-ae963bb1fe47"
      },
      "outputs": [
        {
          "output_type": "stream",
          "name": "stdout",
          "text": [
            "Using device: cuda\n"
          ]
        }
      ],
      "source": [
        "device = \"cuda\" if torch.cuda.is_available() else \"cpu\"\n",
        "print(f\"Using device: {device}\")"
      ]
    },
    {
      "cell_type": "code",
      "execution_count": 27,
      "metadata": {
        "id": "Z8fDpTuEC1vS"
      },
      "outputs": [],
      "source": [
        "weight = 0.7\n",
        "bias = 0.3\n",
        "\n",
        "X = torch.arange(0,1,step=0.02).unsqueeze(dim=1)\n",
        "y = weight*X+bias"
      ]
    },
    {
      "cell_type": "code",
      "execution_count": 28,
      "metadata": {
        "id": "9JGf5FTeDIri"
      },
      "outputs": [],
      "source": [
        "train_split = int(len(X)*0.8)\n",
        "X_train,y_train = X[:train_split],y[:train_split]\n",
        "X_test,y_test = X[train_split:],y[train_split:]"
      ]
    },
    {
      "cell_type": "code",
      "execution_count": 29,
      "metadata": {
        "colab": {
          "base_uri": "https://localhost:8080/"
        },
        "id": "YHR7ftZHDjRA",
        "outputId": "35bfb8a3-1bf5-411d-c93d-3504ee7872ee"
      },
      "outputs": [
        {
          "output_type": "execute_result",
          "data": {
            "text/plain": [
              "OrderedDict([('linear_layer.weight', tensor([[0.7645]])),\n",
              "             ('linear_layer.bias', tensor([0.8300]))])"
            ]
          },
          "metadata": {},
          "execution_count": 29
        }
      ],
      "source": [
        "torch.manual_seed(42)\n",
        "\n",
        "class LinearRegressionModelV2(nn.Module):\n",
        "  def __init__(self):\n",
        "    super().__init__()\n",
        "    self.linear_layer = nn.Linear(in_features=1,out_features=1)\n",
        "\n",
        "  def forward(self,x:torch.Tensor) -> torch.Tensor:\n",
        "    return self.linear_layer(x)\n",
        "\n",
        "model = LinearRegressionModelV2()\n",
        "model.state_dict()"
      ]
    },
    {
      "cell_type": "code",
      "execution_count": 30,
      "metadata": {
        "colab": {
          "base_uri": "https://localhost:8080/"
        },
        "id": "dwFLKEFuNHPk",
        "outputId": "85be5d09-e91f-4a5a-e3be-46ccbcd6791a"
      },
      "outputs": [
        {
          "output_type": "execute_result",
          "data": {
            "text/plain": [
              "device(type='cuda', index=0)"
            ]
          },
          "metadata": {},
          "execution_count": 30
        }
      ],
      "source": [
        "model.to(device)\n",
        "next(model.parameters()).device"
      ]
    },
    {
      "cell_type": "code",
      "execution_count": 31,
      "metadata": {
        "id": "T1k3z0_OFCym"
      },
      "outputs": [],
      "source": [
        "loss_fn = nn.L1Loss()\n",
        "\n",
        "optimizer = torch.optim.SGD(model.parameters(),lr=0.001)\n"
      ]
    },
    {
      "cell_type": "code",
      "execution_count": 32,
      "metadata": {
        "colab": {
          "base_uri": "https://localhost:8080/"
        },
        "id": "D9onenTxFaJx",
        "outputId": "28e73378-34b7-4239-a915-322d09a0e09f"
      },
      "outputs": [
        {
          "output_type": "stream",
          "name": "stdout",
          "text": [
            "Epoch : 0 | Loss : 0.5551779866218567 | Test loss : 0.5861001014709473\n",
            "Epoch : 10 | Loss : 0.5436570644378662 | Test loss : 0.5726293921470642\n",
            "Epoch : 20 | Loss : 0.5321362614631653 | Test loss : 0.5591585040092468\n",
            "Epoch : 30 | Loss : 0.5206153988838196 | Test loss : 0.5456876754760742\n",
            "Epoch : 40 | Loss : 0.5090945363044739 | Test loss : 0.5322169661521912\n",
            "Epoch : 50 | Loss : 0.49757376313209534 | Test loss : 0.5187460780143738\n",
            "Epoch : 60 | Loss : 0.48605284094810486 | Test loss : 0.5052752494812012\n",
            "Epoch : 70 | Loss : 0.47453203797340393 | Test loss : 0.49180442094802856\n",
            "Epoch : 80 | Loss : 0.4630111753940582 | Test loss : 0.4783336818218231\n",
            "Epoch : 90 | Loss : 0.4514903724193573 | Test loss : 0.4648628234863281\n",
            "Epoch : 100 | Loss : 0.4399694502353668 | Test loss : 0.4513919949531555\n",
            "Epoch : 110 | Loss : 0.4284486472606659 | Test loss : 0.4379211962223053\n",
            "Epoch : 120 | Loss : 0.4169278144836426 | Test loss : 0.4244503974914551\n",
            "Epoch : 130 | Loss : 0.4054069519042969 | Test loss : 0.41097956895828247\n",
            "Epoch : 140 | Loss : 0.39388611912727356 | Test loss : 0.39750877022743225\n",
            "Epoch : 150 | Loss : 0.38236525654792786 | Test loss : 0.38403797149658203\n",
            "Epoch : 160 | Loss : 0.37084442377090454 | Test loss : 0.3705671727657318\n",
            "Epoch : 170 | Loss : 0.3593235909938812 | Test loss : 0.3570963442325592\n",
            "Epoch : 180 | Loss : 0.3478027284145355 | Test loss : 0.343625545501709\n",
            "Epoch : 190 | Loss : 0.3362818658351898 | Test loss : 0.33015474677085876\n",
            "Epoch : 200 | Loss : 0.3247610330581665 | Test loss : 0.31668388843536377\n",
            "Epoch : 210 | Loss : 0.3132402002811432 | Test loss : 0.30321311950683594\n",
            "Epoch : 220 | Loss : 0.3017193675041199 | Test loss : 0.28974229097366333\n",
            "Epoch : 230 | Loss : 0.29019853472709656 | Test loss : 0.27627143263816833\n",
            "Epoch : 240 | Loss : 0.27867767214775085 | Test loss : 0.2628006637096405\n",
            "Epoch : 250 | Loss : 0.26715680956840515 | Test loss : 0.2493298500776291\n",
            "Epoch : 260 | Loss : 0.25563597679138184 | Test loss : 0.23585906624794006\n",
            "Epoch : 270 | Loss : 0.24411511421203613 | Test loss : 0.22238822281360626\n",
            "Epoch : 280 | Loss : 0.232594296336174 | Test loss : 0.20891742408275604\n",
            "Epoch : 290 | Loss : 0.2210734337568283 | Test loss : 0.19544661045074463\n",
            "Epoch : 300 | Loss : 0.209552600979805 | Test loss : 0.18197579681873322\n",
            "Epoch : 310 | Loss : 0.19803175330162048 | Test loss : 0.168504998087883\n",
            "Epoch : 320 | Loss : 0.18651090562343597 | Test loss : 0.1550341695547104\n",
            "Epoch : 330 | Loss : 0.17499005794525146 | Test loss : 0.14156334102153778\n",
            "Epoch : 340 | Loss : 0.16346922516822815 | Test loss : 0.12809255719184875\n",
            "Epoch : 350 | Loss : 0.15194837749004364 | Test loss : 0.11462175101041794\n",
            "Epoch : 360 | Loss : 0.14042751491069794 | Test loss : 0.10115094482898712\n",
            "Epoch : 370 | Loss : 0.12890666723251343 | Test loss : 0.08768010139465332\n",
            "Epoch : 380 | Loss : 0.11738584190607071 | Test loss : 0.07420932501554489\n",
            "Epoch : 390 | Loss : 0.105864979326725 | Test loss : 0.06073850393295288\n",
            "Epoch : 400 | Loss : 0.09434414654970169 | Test loss : 0.04726768285036087\n",
            "Epoch : 410 | Loss : 0.08282329887151718 | Test loss : 0.03379688784480095\n",
            "Epoch : 420 | Loss : 0.07130245864391327 | Test loss : 0.02032606676220894\n",
            "Epoch : 430 | Loss : 0.05978161096572876 | Test loss : 0.007426714990288019\n",
            "Epoch : 440 | Loss : 0.04826076328754425 | Test loss : 0.007407677359879017\n",
            "Epoch : 450 | Loss : 0.0378650426864624 | Test loss : 0.0190771222114563\n",
            "Epoch : 460 | Loss : 0.03187794238328934 | Test loss : 0.028085077181458473\n",
            "Epoch : 470 | Loss : 0.028469419106841087 | Test loss : 0.03448789194226265\n",
            "Epoch : 480 | Loss : 0.026411060243844986 | Test loss : 0.03905702382326126\n",
            "Epoch : 490 | Loss : 0.02506597898900509 | Test loss : 0.042284972965717316\n"
          ]
        }
      ],
      "source": [
        "epochs = 500\n",
        "\n",
        "X_train,y_train = X_train.to(device),y_train.to(device)\n",
        "X_test,y_test = X_test.to(device),y_test.to(device)\n",
        "\n",
        "for epoch in range(epochs):\n",
        "  model.train()\n",
        "  preds = model(X_train)\n",
        "  loss = loss_fn(preds,y_train)\n",
        "  model.zero_grad()\n",
        "  loss.backward()\n",
        "  optimizer.step()\n",
        "\n",
        "  model.eval()\n",
        "  with torch.inference_mode():\n",
        "    test_preds = model(X_test)\n",
        "    test_loss = loss_fn(test_preds,y_test)\n",
        "  if epoch % 10 == 0:\n",
        "    print(f\"Epoch : {epoch} | Loss : {loss} | Test loss : {test_loss}\")\n"
      ]
    },
    {
      "cell_type": "code",
      "execution_count": 33,
      "metadata": {
        "colab": {
          "base_uri": "https://localhost:8080/"
        },
        "id": "kolMowfGNA9z",
        "outputId": "8263124e-b822-4074-a3d0-4bf45e06924b"
      },
      "outputs": [
        {
          "output_type": "execute_result",
          "data": {
            "text/plain": [
              "OrderedDict([('linear_layer.weight', tensor([[0.5872]], device='cuda:0')),\n",
              "             ('linear_layer.bias', tensor([0.3560], device='cuda:0'))])"
            ]
          },
          "metadata": {},
          "execution_count": 33
        }
      ],
      "source": [
        "model.state_dict()"
      ]
    },
    {
      "cell_type": "code",
      "execution_count": 34,
      "metadata": {
        "colab": {
          "base_uri": "https://localhost:8080/"
        },
        "id": "gCxY3m4pNYEb",
        "outputId": "9abad153-8eb2-4418-c154-ad40860b4912"
      },
      "outputs": [
        {
          "output_type": "execute_result",
          "data": {
            "text/plain": [
              "tensor([[0.8258],\n",
              "        [0.8375],\n",
              "        [0.8492],\n",
              "        [0.8610],\n",
              "        [0.8727],\n",
              "        [0.8845],\n",
              "        [0.8962],\n",
              "        [0.9080],\n",
              "        [0.9197],\n",
              "        [0.9315]], device='cuda:0')"
            ]
          },
          "metadata": {},
          "execution_count": 34
        }
      ],
      "source": [
        "model.eval()\n",
        "with torch.inference_mode():\n",
        "  preds = model(X_test)\n",
        "\n",
        "preds"
      ]
    },
    {
      "cell_type": "code",
      "execution_count": 35,
      "metadata": {
        "id": "gTiNnxHgNi_3"
      },
      "outputs": [],
      "source": [
        "preds = preds.cpu()"
      ]
    },
    {
      "cell_type": "code",
      "execution_count": 36,
      "metadata": {
        "colab": {
          "base_uri": "https://localhost:8080/"
        },
        "id": "4x4Qh4uoOj5b",
        "outputId": "3cfe735b-af52-4cd1-abaf-85980dba6be6"
      },
      "outputs": [
        {
          "output_type": "execute_result",
          "data": {
            "text/plain": [
              "device(type='cpu')"
            ]
          },
          "metadata": {},
          "execution_count": 36
        }
      ],
      "source": [
        "preds.device"
      ]
    },
    {
      "cell_type": "code",
      "execution_count": 37,
      "metadata": {
        "colab": {
          "base_uri": "https://localhost:8080/",
          "height": 599
        },
        "id": "GiRZdpK0Onxp",
        "outputId": "f458509c-c691-40a0-f218-d0974f7c3788"
      },
      "outputs": [
        {
          "output_type": "display_data",
          "data": {
            "text/plain": [
              "<Figure size 1000x700 with 1 Axes>"
            ],
            "image/png": "[encoded data removed]"
          },
          "metadata": {}
        }
      ],
      "source": [
        "plot_predictions(predictions=preds)"
      ]
    },
    {
      "cell_type": "code",
      "source": [
        "from pathlib import Path\n",
        "\n",
        "MODEL_PATH = Path(\"models\")\n",
        "MODEL_PATH.mkdir(parents=True,exist_ok=True)\n",
        "\n",
        "MODEL_NAME = \"01_pytorch_workflow_model_v2.pth\"\n",
        "SAVE_PATH = MODEL_PATH / MODEL_NAME\n",
        "\n",
        "print(f\"Saving model to {SAVE_PATH}\")\n",
        "torch.save(obj=model.state_dict(),f=SAVE_PATH)"
      ],
      "metadata": {
        "colab": {
          "base_uri": "https://localhost:8080/"
        },
        "id": "8WbPTmqUjj3X",
        "outputId": "2742fbdc-187a-4657-f417-f1f9f2efcf30"
      },
      "execution_count": 41,
      "outputs": [
        {
          "output_type": "stream",
          "name": "stdout",
          "text": [
            "Saving model to models/01_pytorch_workflow_model_v2.pth\n"
          ]
        }
      ]
    },
    {
      "cell_type": "code",
      "source": [
        "another_model = LinearRegressionModelV2().to(device)\n",
        "another_model.load_state_dict(torch.load(f=SAVE_PATH,weights_only=True))\n",
        "\n",
        "another_model.state_dict()\n"
      ],
      "metadata": {
        "colab": {
          "base_uri": "https://localhost:8080/"
        },
        "id": "9lOynxaRjpbM",
        "outputId": "0736cc30-2321-4e29-9b26-d9e59df2d917"
      },
      "execution_count": 46,
      "outputs": [
        {
          "output_type": "execute_result",
          "data": {
            "text/plain": [
              "OrderedDict([('linear_layer.weight', tensor([[0.5872]], device='cuda:0')),\n",
              "             ('linear_layer.bias', tensor([0.3560], device='cuda:0'))])"
            ]
          },
          "metadata": {},
          "execution_count": 46
        }
      ]
    },
    {
      "cell_type": "code",
      "source": [
        "another_model.eval()\n",
        "\n",
        "with torch.inference_mode():\n",
        "  preds = another_model(X_test).cpu()\n",
        "  plot_predictions(predictions=preds)"
      ],
      "metadata": {
        "colab": {
          "base_uri": "https://localhost:8080/",
          "height": 599
        },
        "id": "gz9Pc61ek_LT",
        "outputId": "2d735d62-e823-4328-f78b-e0694137189c"
      },
      "execution_count": 48,
      "outputs": [
        {
          "output_type": "display_data",
          "data": {
            "text/plain": [
              "<Figure size 1000x700 with 1 Axes>"
            ],
            "image/png": "[encoded data removed]"
          },
          "metadata": {}
        }
      ]
    },
    {
      "cell_type": "code",
      "source": [],
      "metadata": {
        "id": "AuiekW9Elu2P"
      },
      "execution_count": null,
      "outputs": []
    }
  ],
  "metadata": {
    "accelerator": "GPU",
    "colab": {
      "gpuType": "T4",
      "toc_visible": true,
      "provenance": [],
      "authorship_tag": "ABX9TyMX0ZRpn5ErwoHRg20xy/5n",
      "include_colab_link": true
    },
    "kernelspec": {
      "display_name": "Python 3",
      "name": "python3"
    },
    "language_info": {
      "name": "python"
    }
  },
  "nbformat": 4,
  "nbformat_minor": 0
}