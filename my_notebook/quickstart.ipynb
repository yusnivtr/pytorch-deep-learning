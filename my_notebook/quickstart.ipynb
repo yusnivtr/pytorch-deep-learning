{
  "nbformat": 4,
  "nbformat_minor": 0,
  "metadata": {
    "colab": {
      "provenance": [],
      "gpuType": "T4",
      "authorship_tag": "ABX9TyM6RDmpC8/UAQ4RRp5yIDBa",
      "include_colab_link": true
    },
    "kernelspec": {
      "name": "python3",
      "display_name": "Python 3"
    },
    "language_info": {
      "name": "python"
    },
    "accelerator": "GPU"
  },
  "cells": [
    {
      "cell_type": "markdown",
      "metadata": {
        "id": "view-in-github",
        "colab_type": "text"
      },
      "source": [
        "<a href=\"https://colab.research.google.com/github/yusnivtr/pytorch-deep-learning/blob/main/my_notebook/quickstart.ipynb\" target=\"_parent\"><img src=\"https://colab.research.google.com/assets/colab-badge.svg\" alt=\"Open In Colab\"/></a>"
      ]
    },
    {
      "cell_type": "markdown",
      "source": [
        "# Working with data\n"
      ],
      "metadata": {
        "id": "jsSBo91s6Zuu"
      }
    },
    {
      "cell_type": "code",
      "source": [
        "import torch\n",
        "from torch import nn\n",
        "from torch.utils.data import DataLoader\n",
        "from torchvision import datasets\n",
        "from torchvision.transforms import ToTensor"
      ],
      "metadata": {
        "id": "ffJW4u3g6bvO"
      },
      "execution_count": null,
      "outputs": []
    },
    {
      "cell_type": "markdown",
      "source": [
        "PyTorch offers domain-specific libraries such as TorchText, TorchVision, and TorchAudio, all of which include datasets. For this tutorial, we will be using a TorchVision dataset.\n",
        "\n",
        "The torchvision.datasets module contains Dataset objects for many real-world vision data like CIFAR, COCO (full list here). In this tutorial, we use the FashionMNIST dataset. Every TorchVision Dataset includes two arguments: transform and target_transform to modify the samples and labels respectively."
      ],
      "metadata": {
        "id": "sfBND4So7kxo"
      }
    },
    {
      "cell_type": "code",
      "source": [
        "# Download traning data from open datasets\n",
        "training_data = datasets.FashionMNIST(\n",
        "    root='data',\n",
        "    train=True,\n",
        "    download=True,\n",
        "    transform=ToTensor(),\n",
        ")\n",
        "\n",
        "# Download test data from open datasets\n",
        "test_data = datasets.FashionMNIST(\n",
        "    root='data',\n",
        "    train=False,\n",
        "    download=True,\n",
        "    transform=ToTensor(),\n",
        ")"
      ],
      "metadata": {
        "id": "SlL8xGsq7Hrv"
      },
      "execution_count": null,
      "outputs": []
    },
    {
      "cell_type": "markdown",
      "source": [
        "We pass the Dataset as an argument to DataLoader. This wraps an iterable over our dataset, and supports automatic batching, sampling, shuffling and multiprocess data loading. Here we define a batch size of 64, i.e. each element in the dataloader iterable will return a batch of 64 features and labels."
      ],
      "metadata": {
        "id": "wHaX_N-v8ZvF"
      }
    },
    {
      "cell_type": "code",
      "source": [
        "batch_size = 64\n",
        "\n",
        "# Create data loaders\n",
        "train_dataloader = DataLoader(training_data,batch_size = batch_size)\n",
        "test_dataloader = DataLoader(test_data,batch_size = batch_size)\n",
        "\n",
        "for X,y in test_dataloader:\n",
        "  print(f\"Shape of X [number, colour_channel, height, width] : {X.shape}\")\n",
        "  print(f\"Shape of Y : {y.shape}\")\n",
        "  break"
      ],
      "metadata": {
        "colab": {
          "base_uri": "https://localhost:8080/"
        },
        "id": "nYqb-Nag7_jg",
        "outputId": "83d43c92-ca87-48de-9924-94ca635a7e1a"
      },
      "execution_count": null,
      "outputs": [
        {
          "output_type": "stream",
          "name": "stdout",
          "text": [
            "Shape of X [number, colour_channel, height, width] : torch.Size([64, 1, 28, 28])\n",
            "Shape of Y : torch.Size([64])\n"
          ]
        }
      ]
    },
    {
      "cell_type": "markdown",
      "source": [
        "# Creating Models\n",
        "To define a neural network in PyTorch, we create a class that inherits from nn.Module. We define the layers of the network in the __init__ function and specify how data will pass through the network in the forward function. To accelerate operations in the neural network, we move it to the GPU or MPS if available."
      ],
      "metadata": {
        "id": "Po-dUvom9Nw5"
      }
    },
    {
      "cell_type": "code",
      "source": [
        "device = \"cuda\" if torch.cuda.is_available() else \"cpu\"\n",
        "\n",
        "print(f\"Using {device} device\")\n",
        "\n",
        "# Define model\n",
        "class NeuralNetwork(nn.Module):\n",
        "    def __init__(self):\n",
        "        super().__init__()\n",
        "        self.flatten = nn.Flatten()\n",
        "        self.linear_relu_stack = nn.Sequential(\n",
        "            nn.Linear(28*28, 512),\n",
        "            nn.ReLU(),\n",
        "            nn.Linear(512, 512),\n",
        "            nn.ReLU(),\n",
        "            nn.Linear(512, 10)\n",
        "        )\n",
        "\n",
        "    def forward(self, x):\n",
        "        x = self.flatten(x)\n",
        "        logits = self.linear_relu_stack(x)\n",
        "        return logits\n",
        "\n",
        "model = NeuralNetwork().to(device)\n",
        "print(model)"
      ],
      "metadata": {
        "colab": {
          "base_uri": "https://localhost:8080/"
        },
        "id": "lgxhA_iP9Jit",
        "outputId": "44b00fe3-91e3-4cdd-8288-8b3ecf691ab8"
      },
      "execution_count": null,
      "outputs": [
        {
          "output_type": "stream",
          "name": "stdout",
          "text": [
            "Using cuda device\n",
            "NeuralNetwork(\n",
            "  (flatten): Flatten(start_dim=1, end_dim=-1)\n",
            "  (linear_relu_stack): Sequential(\n",
            "    (0): Linear(in_features=784, out_features=512, bias=True)\n",
            "    (1): ReLU()\n",
            "    (2): Linear(in_features=512, out_features=512, bias=True)\n",
            "    (3): ReLU()\n",
            "    (4): Linear(in_features=512, out_features=10, bias=True)\n",
            "  )\n",
            ")\n"
          ]
        }
      ]
    },
    {
      "cell_type": "markdown",
      "source": [
        "# Optimizing the model parameters"
      ],
      "metadata": {
        "id": "DOyhaGVf_VMb"
      }
    },
    {
      "cell_type": "code",
      "source": [
        "loss_fn = nn.CrossEntropyLoss()\n",
        "optimizer = torch.optim.SGD(model.parameters(),lr=1e-3)"
      ],
      "metadata": {
        "id": "TS48MmYv_LO1"
      },
      "execution_count": null,
      "outputs": []
    },
    {
      "cell_type": "markdown",
      "source": [
        "In a single training loop, the model makes predictions on the training dataset (fed to it in batches), and backpropagates the prediction error to adjust the model’s parameters."
      ],
      "metadata": {
        "id": "BasPGUZZ_m9v"
      }
    },
    {
      "cell_type": "code",
      "source": [
        "def train(dataloader, model, loss_fn, optimizer):\n",
        "    size = len(dataloader.dataset)\n",
        "    model.train()\n",
        "    for batch, (X, y) in enumerate(dataloader):\n",
        "        X, y = X.to(device), y.to(device)\n",
        "\n",
        "        # Compute prediction error\n",
        "        pred = model(X)\n",
        "        loss = loss_fn(pred, y)\n",
        "\n",
        "        # Backpropagation\n",
        "        loss.backward()\n",
        "        optimizer.step()\n",
        "        optimizer.zero_grad()\n",
        "\n",
        "        if batch % 100 == 0:\n",
        "            loss, current = loss.item(), (batch + 1) * len(X)\n",
        "            print(f\"loss: {loss:>7f}  [{current:>5d}/{size:>5d}]\")"
      ],
      "metadata": {
        "id": "FBp1Ywpy_mPL"
      },
      "execution_count": null,
      "outputs": []
    },
    {
      "cell_type": "code",
      "source": [
        "def test(dataloader, model, loss_fn):\n",
        "    size = len(dataloader.dataset)\n",
        "    num_batches = len(dataloader)\n",
        "    model.eval()\n",
        "    test_loss, correct = 0, 0\n",
        "    with torch.no_grad():\n",
        "        for X, y in dataloader:\n",
        "            X, y = X.to(device), y.to(device)\n",
        "            pred = model(X)\n",
        "            test_loss += loss_fn(pred, y).item()\n",
        "            correct += (pred.argmax(1) == y).type(torch.float).sum().item()\n",
        "    test_loss /= num_batches\n",
        "    correct /= size\n",
        "    print(f\"Test Error: \\n Accuracy: {(100*correct):>0.1f}%, Avg loss: {test_loss:>8f} \\n\")"
      ],
      "metadata": {
        "id": "Vb60xeOlAcPL"
      },
      "execution_count": null,
      "outputs": []
    },
    {
      "cell_type": "markdown",
      "source": [
        "The training process is conducted over several iterations (epochs). During each epoch, the model learns parameters to make better predictions. We print the model’s accuracy and loss at each epoch; we’d like to see the accuracy increase and the loss decrease with every epoch."
      ],
      "metadata": {
        "id": "_hFvwUTWAliD"
      }
    },
    {
      "cell_type": "code",
      "source": [
        "epochs = 5\n",
        "for t in range(epochs):\n",
        "    print(f\"Epoch {t+1}\\n-------------------------------\")\n",
        "    train(train_dataloader, model, loss_fn, optimizer)\n",
        "    test(test_dataloader, model, loss_fn)\n",
        "print(\"Done!\")"
      ],
      "metadata": {
        "colab": {
          "base_uri": "https://localhost:8080/"
        },
        "id": "qHNcPBYYAjck",
        "outputId": "32b4c22c-5d55-43fe-dfbb-1a42aaa203e6"
      },
      "execution_count": null,
      "outputs": [
        {
          "output_type": "stream",
          "name": "stdout",
          "text": [
            "Epoch 1\n",
            "-------------------------------\n",
            "loss: 2.319606  [   64/60000]\n",
            "loss: 2.302922  [ 6464/60000]\n",
            "loss: 2.290220  [12864/60000]\n",
            "loss: 2.280824  [19264/60000]\n",
            "loss: 2.250232  [25664/60000]\n",
            "loss: 2.244974  [32064/60000]\n",
            "loss: 2.236447  [38464/60000]\n",
            "loss: 2.217854  [44864/60000]\n",
            "loss: 2.223658  [51264/60000]\n",
            "loss: 2.180129  [57664/60000]\n",
            "Test Error: \n",
            " Accuracy: 43.3%, Avg loss: 2.182797 \n",
            "\n",
            "Epoch 2\n",
            "-------------------------------\n",
            "loss: 2.198733  [   64/60000]\n",
            "loss: 2.181632  [ 6464/60000]\n",
            "loss: 2.135818  [12864/60000]\n",
            "loss: 2.145505  [19264/60000]\n",
            "loss: 2.090576  [25664/60000]\n",
            "loss: 2.052405  [32064/60000]\n",
            "loss: 2.064431  [38464/60000]\n",
            "loss: 2.002353  [44864/60000]\n",
            "loss: 2.013823  [51264/60000]\n",
            "loss: 1.933316  [57664/60000]\n",
            "Test Error: \n",
            " Accuracy: 53.0%, Avg loss: 1.939745 \n",
            "\n",
            "Epoch 3\n",
            "-------------------------------\n",
            "loss: 1.975939  [   64/60000]\n",
            "loss: 1.939861  [ 6464/60000]\n",
            "loss: 1.838633  [12864/60000]\n",
            "loss: 1.868843  [19264/60000]\n",
            "loss: 1.763672  [25664/60000]\n",
            "loss: 1.717780  [32064/60000]\n",
            "loss: 1.728182  [38464/60000]\n",
            "loss: 1.639743  [44864/60000]\n",
            "loss: 1.671139  [51264/60000]\n",
            "loss: 1.551599  [57664/60000]\n",
            "Test Error: \n",
            " Accuracy: 59.6%, Avg loss: 1.580821 \n",
            "\n",
            "Epoch 4\n",
            "-------------------------------\n",
            "loss: 1.648414  [   64/60000]\n",
            "loss: 1.607951  [ 6464/60000]\n",
            "loss: 1.471014  [12864/60000]\n",
            "loss: 1.529751  [19264/60000]\n",
            "loss: 1.412233  [25664/60000]\n",
            "loss: 1.406254  [32064/60000]\n",
            "loss: 1.405325  [38464/60000]\n",
            "loss: 1.340088  [44864/60000]\n",
            "loss: 1.381197  [51264/60000]\n",
            "loss: 1.260226  [57664/60000]\n",
            "Test Error: \n",
            " Accuracy: 62.4%, Avg loss: 1.299972 \n",
            "\n",
            "Epoch 5\n",
            "-------------------------------\n",
            "loss: 1.381978  [   64/60000]\n",
            "loss: 1.354623  [ 6464/60000]\n",
            "loss: 1.198448  [12864/60000]\n",
            "loss: 1.293005  [19264/60000]\n",
            "loss: 1.164816  [25664/60000]\n",
            "loss: 1.192246  [32064/60000]\n",
            "loss: 1.196057  [38464/60000]\n",
            "loss: 1.145412  [44864/60000]\n",
            "loss: 1.192321  [51264/60000]\n",
            "loss: 1.082324  [57664/60000]\n",
            "Test Error: \n",
            " Accuracy: 64.1%, Avg loss: 1.118792 \n",
            "\n",
            "Done!\n"
          ]
        }
      ]
    },
    {
      "cell_type": "markdown",
      "source": [
        "# Saving models\n",
        "A common way to save a model is to serialize the internal state dictionary (containing the model parameters)."
      ],
      "metadata": {
        "id": "CjvlHbaVCQ0q"
      }
    },
    {
      "cell_type": "code",
      "source": [
        "torch.save(model.state_dict(),'model.pth')\n",
        "print(\"Saved PyTorch model State to model.pth\")"
      ],
      "metadata": {
        "colab": {
          "base_uri": "https://localhost:8080/"
        },
        "id": "ZzsVN_9oCa7t",
        "outputId": "d2e090b8-71e4-46ce-abf1-64ca904513c8"
      },
      "execution_count": null,
      "outputs": [
        {
          "output_type": "stream",
          "name": "stdout",
          "text": [
            "Saved PyTorch model State to model.pth\n"
          ]
        }
      ]
    },
    {
      "cell_type": "markdown",
      "source": [
        "# Loading models"
      ],
      "metadata": {
        "id": "tK5unOk0CoWy"
      }
    },
    {
      "cell_type": "markdown",
      "source": [
        "The process for loading a model includes re-creating the model structure and loading the state dictionary into it.\n",
        "\n"
      ],
      "metadata": {
        "id": "No11Au4BCtSt"
      }
    },
    {
      "cell_type": "code",
      "source": [
        "model = NeuralNetwork().to(device)\n",
        "model.load_state_dict(torch.load(\"model.pth\",weights_only=True))"
      ],
      "metadata": {
        "colab": {
          "base_uri": "https://localhost:8080/"
        },
        "id": "Rk2jcXFjCmXN",
        "outputId": "8d220455-398d-418d-a953-9951ee2ead30"
      },
      "execution_count": null,
      "outputs": [
        {
          "output_type": "execute_result",
          "data": {
            "text/plain": [
              "<All keys matched successfully>"
            ]
          },
          "metadata": {},
          "execution_count": 27
        }
      ]
    },
    {
      "cell_type": "code",
      "source": [
        "classes = [\n",
        "    \"T-shirt/top\",\n",
        "    \"Trouser\",\n",
        "    \"Pullover\",\n",
        "    \"Dress\",\n",
        "    \"Coat\",\n",
        "    \"Sandal\",\n",
        "    \"Shirt\",\n",
        "    \"Sneaker\",\n",
        "    \"Bag\",\n",
        "    \"Ankle boot\",\n",
        "]\n",
        "\n",
        "model.eval()\n",
        "x, y = test_data[1][0], test_data[1][1]\n",
        "with torch.no_grad():\n",
        "    x = x.to(device)\n",
        "    pred = model(x)\n",
        "    predicted, actual = classes[pred[0].argmax(0)], classes[y]\n",
        "    print(f'Predicted: \"{predicted}\", Actual: \"{actual}\"')"
      ],
      "metadata": {
        "colab": {
          "base_uri": "https://localhost:8080/"
        },
        "id": "3BMRr5spC2hQ",
        "outputId": "6bf4b160-f5f8-4138-b3c9-0045783674f8"
      },
      "execution_count": null,
      "outputs": [
        {
          "output_type": "stream",
          "name": "stdout",
          "text": [
            "Predicted: \"Pullover\", Actual: \"Pullover\"\n"
          ]
        }
      ]
    }
  ]
}